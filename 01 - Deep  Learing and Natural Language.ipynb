{
 "cells": [
  {
   "cell_type": "markdown",
   "metadata": {},
   "source": [
    "### Deep Learning and Natural Language"
   ]
  },
  {
   "cell_type": "markdown",
   "metadata": {},
   "source": [
    "<div class=\"admonition caution alert alert-success\">\n",
    "\n",
    "The study of natural language processing (nlp) has been around for decades (more than 50 years).\n",
    "**Below is a list of 10 impressive applications of Deep Learning methods in the field of natural language processing, and link to a research paper that demostrates the example.**\n",
    "  1. Machine Translations. _see_ [Attention is all you need](https://user.phil.hhu.de/~cwurm/wp-content/uploads/2020/01/7181-attention-is-all-you-need.pdf)\n",
    "  2. Text to image. _see_ [DALL·E 2](https://arxiv.org/pdf/2204.06125v1)\n",
    "  3. Text Generations. _see_ [ChatGPT: Vision and Challenges](https://www.sciencedirect.com/science/article/pii/S2667345223000317)\n",
    "  4. Chatbots and virtual assistance. _see_ [The application analysis of medical chatbots and virtual assistant](https://francis-press.com/uploads/papers/AeOWJQqjIpxAIw9UUz9k9abCdQm79rYo7R4GT4jE.pdf)\n",
    "  5. Sentiment Analysis. _see_ [NRC-Canada: Building the State-of-the-Art in Sentiment Analysis of Tweets](https://arxiv.org/abs/1308.6242)\n",
    "  6. Abusive and Hate Speech Detection. _see_ [A systematic review of hate speech automatic detection using natural language processing](https://www.sciencedirect.com/science/article/pii/S0925231223003557)\n",
    "  7. Text Summarizations. _see_ [An experimental investigation on unsupervised text summarization for customer reviews](https://www.sciencedirect.com/science/article/pii/S1877050923001473)\n",
    "  8. Question Answering. _see_ [PAL-BERT: an improved question answering model](https://www.researchgate.net/profile/Wenfeng-Zheng/publication/376966459_PAL-BERT_An_Improved_Question_Answering_Model/links/659067652468df72d3ec0411/PAL-BERT-An-Improved-Question-Answering-Model.pdf)\n",
    "  9. Automated Essay Scoring/Marking. _see_ [Exploring the potential of using an AI language model for automated essay scoring](https://www.sciencedirect.com/science/article/pii/S2772766123000101)\n",
    "  10. Code Generations. _see_ [GitHub Copilot AI pair programmer: Asset or Liability?](https://www.sciencedirect.com/science/article/pii/S0164121223001292?casa_token=SX1jI9GRvnEAAAAA:BJ3FCo3BgQVtK2RAVhSjpdHqYAIQ6tyj9ZtVm9OU_fKx3wohLgwuoOyVwAai2HhnP6f8hfd6JnA)\n",
    "\n",
    "</div>"
   ]
  },
  {
   "cell_type": "code",
   "execution_count": null,
   "metadata": {},
   "outputs": [],
   "source": []
  }
 ],
 "metadata": {
  "language_info": {
   "name": "python"
  }
 },
 "nbformat": 4,
 "nbformat_minor": 2
}
